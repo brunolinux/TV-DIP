{
 "cells": [
  {
   "cell_type": "markdown",
   "metadata": {},
   "source": [
    "# Import libs"
   ]
  },
  {
   "cell_type": "code",
   "execution_count": null,
   "metadata": {},
   "outputs": [],
   "source": [
    "from __future__ import print_function\n",
    "import matplotlib.pyplot as plt\n",
    "%matplotlib inline\n",
    "\n",
    "import os\n",
    "#os.environ['CUDA_VISIBLE_DEVICES'] = '1'\n",
    "\n",
    "import numpy as np\n",
    "from models.resnet import ResNet\n",
    "from models.unet import UNet\n",
    "from models.skip import skip\n",
    "from models import get_net\n",
    "import torch\n",
    "import torch.optim\n",
    "\n",
    "from skimage.metrics import peak_signal_noise_ratio\n",
    "from util.common_utils import * \n",
    "from util.loss import total_variation\n",
    "\n",
    "torch.backends.cudnn.enabled = True\n",
    "torch.backends.cudnn.benchmark =True\n",
    "dtype = torch.cuda.FloatTensor\n",
    "\n",
    "PLOT = True\n",
    "imsize=-1\n",
    "dim_div_by = 64\n",
    "dtype = torch.cuda.FloatTensor"
   ]
  },
  {
   "cell_type": "markdown",
   "metadata": {},
   "source": [
    "# Choose figure"
   ]
  },
  {
   "cell_type": "code",
   "execution_count": null,
   "metadata": {},
   "outputs": [],
   "source": [
    "base_dir = './data/human'\n",
    "# base_dir = './data/power_supply'\n",
    "img_dir = os.path.join(base_dir, \"images_lpn\")\n",
    "# img_dir = os.path.join(base_dir, \"images_lpn_2\")\n",
    "img_clean_dir = os.path.join(base_dir, \"images_clean\")\n",
    "file_list = os.listdir(img_dir)\n",
    "\n",
    "img_np_list = []\n",
    "img_gpu_list = []\n",
    "img_clean_list = []\n",
    "\n",
    "for f in file_list:\n",
    "    _, img_np = get_image(os.path.join(img_dir, f), imsize)\n",
    "    img_np = img_np[0:1, :, :] \n",
    "    img_np_list.append(img_np)\n",
    "    img_gpu_list.append(np_to_torch(img_np).type(dtype))\n",
    "\n",
    "    _, img_clean = get_image(os.path.join(img_clean_dir, f), imsize)\n",
    "    img_clean = img_clean[0:1, :, :] \n",
    "    img_clean_list.append(img_clean)\n",
    "\n",
    "print(\"img_np shape: \", img_np_list[0].shape)\n",
    "\n",
    "_ = plot_image_grid([img_clean_list[0], img_np_list[0]], factor=4, nrow=2)"
   ]
  },
  {
   "cell_type": "markdown",
   "metadata": {},
   "source": [
    "# Set up everything"
   ]
  },
  {
   "cell_type": "code",
   "execution_count": null,
   "metadata": {},
   "outputs": [],
   "source": [
    "# low-pass filter\n",
    "import cv2\n",
    "\n",
    "def high_pass_blur(img_np, gauss_ksize):\n",
    "    img_np_cv = np.copy(img_np)\n",
    "    img_np_cv = np.moveaxis(img_np_cv, 0, 2)\n",
    "    img_lp = cv2.blur(img_np_cv, (gauss_ksize, gauss_ksize))\n",
    "    img_hp = img_np_cv - np.expand_dims(img_lp, 2)\n",
    "    img_hp = np.moveaxis(img_hp, 2, 0)\n",
    "    return img_hp\n",
    "\n",
    "def high_pass_nlm(img_np):\n",
    "    img_np_cv = np.array(img_np[0, :, :], dtype=np.uint8)\n",
    "    img_lp = cv2.fastNlMeansDenoising(img_np_cv, 1, 3, 7)\n",
    "    img_hp = np.array(np.expand_dims(img_lp, 0), dtype=np.float32)\n",
    "    img_hp = img_np - img_hp\n",
    "    return img_hp\n",
    "\n",
    "\n",
    "def blur(img_np, gauss_ksize):\n",
    "    img_np_cv = np.copy(img_np)\n",
    "    img_np_cv = np.moveaxis(img_np_cv, 0, 2)\n",
    "    img_lp = cv2.blur(img_np_cv, (gauss_ksize, gauss_ksize))\n",
    "    img_lp = np.expand_dims(img_lp, 0)\n",
    "    return img_lp\n"
   ]
  },
  {
   "cell_type": "code",
   "execution_count": null,
   "metadata": {},
   "outputs": [],
   "source": [
    "show_every=200\n",
    "figsize=5\n",
    "pad = 'reflection' # 'zero'\n",
    "INPUT = 'noise'\n",
    "input_depth = 32\n",
    "OPTIMIZER = 'adam'\n",
    "OPT_OVER =  'net'\n",
    "\n",
    "OPTIMIZER = 'adam'\n",
    "\n",
    "LR = 1e-3\n",
    "num_iter = 4000\n",
    "reg_noise_std = 3e-5\n",
    "\n",
    "NET_TYPE = 'skip'\n",
    "net = get_net(input_depth, 'skip', pad, n_channels=1,\n",
    "                skip_n33d=128, \n",
    "                skip_n33u=128, \n",
    "                skip_n11=4, \n",
    "                num_scales=5,\n",
    "                upsample_mode='bilinear').type(dtype)\n",
    "\n",
    "# Loss\n",
    "mse = torch.nn.MSELoss().type(dtype)\n",
    "#img_var = np_to_torch(img_np).type(dtype)\n",
    "\n",
    "net_input = get_noise(input_depth, INPUT, img_np.shape[1:]).type(dtype).detach()\n",
    "\n",
    "num_parametes = sum(p.numel() for p in net.parameters() if p.requires_grad)\n",
    "print(\"number parameters: {}\".format(num_parametes))"
   ]
  },
  {
   "cell_type": "markdown",
   "metadata": {},
   "source": [
    "# Main loop"
   ]
  },
  {
   "cell_type": "code",
   "execution_count": null,
   "metadata": {},
   "outputs": [],
   "source": [
    "img_zero = torch.zeros_like(img_gpu_list[0])\n",
    "\n",
    "def closure():\n",
    "\n",
    "    global i, last_net, net_input\n",
    "    \n",
    "    if reg_noise_std > 0:\n",
    "        net_input = net_input_saved + (noise.normal_() * reg_noise_std)\n",
    "    \n",
    "    out = net(net_input)\n",
    "\n",
    "    index = np.random.randint(0, len(img_gpu_list))\n",
    "\n",
    "    target = img_np_list[index]\n",
    "    target_gpu = img_gpu_list[index]\n",
    "\n",
    "    tv_step = np.random.randint(10, 30)\n",
    "\n",
    "    total_loss = total_variation(target_gpu - out, step=tv_step) + mse(img_zero, out)\n",
    "\n",
    "    total_loss.backward()\n",
    "    \n",
    "    learned_noise = out.detach().cpu().numpy()[0]\n",
    "    out_clean = img_np_list[index] - out.detach().cpu().numpy()[0]\n",
    "    out_clean_norm = (out_clean-np.min(out_clean))/(np.max(out_clean)-np.min(out_clean))\n",
    "    psrn = peak_signal_noise_ratio(img_clean_list[index], out_clean_norm) \n",
    "\n",
    "    print ('Iteration %05d    Loss %f PSNR %f' % (i, total_loss.item(), psrn),'\\r', end='')\n",
    "    \n",
    "    \n",
    "    if  PLOT and i % show_every == 0:\n",
    "        plot_image_grid([np.clip(learned_noise, 0, 1), target, out_clean_norm], factor=figsize, nrow=3)\n",
    "\n",
    "    i += 1\n",
    "\n",
    "    return total_loss\n",
    "\n",
    "# Init globals \n",
    "last_net = None\n",
    "i = 0\n",
    "\n",
    "net_input_saved = net_input.detach().clone()\n",
    "noise = net_input.detach().clone()\n",
    "\n",
    "# Run\n",
    "p = get_params(OPT_OVER, net, net_input)\n",
    "optimize(OPTIMIZER, p, closure, LR=LR, num_iter=num_iter)"
   ]
  },
  {
   "cell_type": "code",
   "execution_count": null,
   "metadata": {},
   "outputs": [],
   "source": [
    "out_np = torch_to_np(net(net_input))\n",
    "\n",
    "out_list = []\n",
    "\n",
    "for img_np in img_np_list[:30]:\n",
    "    out_clean = img_np - out_np[0]\n",
    "    out_clean_norm = (out_clean-np.min(out_clean))/(np.max(out_clean)-np.min(out_clean))\n",
    "    out_list.append(out_clean_norm)\n",
    "\n",
    "\n",
    "q = plot_image_grid(out_list, factor=13)"
   ]
  },
  {
   "cell_type": "code",
   "execution_count": null,
   "metadata": {},
   "outputs": [],
   "source": [
    "import cv2\n",
    "index = file_list.index(\"24.jpg\") #20\n",
    "out_clean = img_np_list[index] - out_np[0]\n",
    "out_clean_norm = (out_clean-np.min(out_clean))/(np.max(out_clean)-np.min(out_clean))\n",
    "image = out_clean_norm[0] * 255\n",
    "image = np.array(image, dtype=np.uint8)\n",
    "#image = np.dstack([image, image, image])\n",
    "cv2.imwrite(\"out_tv_dip.png\", image)\n",
    "\n",
    "\n",
    "psnr = peak_signal_noise_ratio(img_clean_list[index], out_clean_norm) \n",
    "print(\"PSNR: {}\".format(psnr))"
   ]
  },
  {
   "cell_type": "code",
   "execution_count": null,
   "metadata": {},
   "outputs": [],
   "source": [
    "noise_lpn = out_np[0]\n",
    "noise_lpn = noise_lpn / np.max(noise_lpn) * 255\n",
    "noise_lpn = np.array(noise_lpn, dtype=np.uint8)\n",
    "cv2.imwrite(\"out_tv_lpn.png\", noise_lpn)"
   ]
  },
  {
   "cell_type": "code",
   "execution_count": null,
   "metadata": {},
   "outputs": [],
   "source": []
  }
 ],
 "metadata": {
  "kernelspec": {
   "display_name": "Python 3.7.13 ('deep-image-prior')",
   "language": "python",
   "name": "python3"
  },
  "language_info": {
   "codemirror_mode": {
    "name": "ipython",
    "version": 3
   },
   "file_extension": ".py",
   "mimetype": "text/x-python",
   "name": "python",
   "nbconvert_exporter": "python",
   "pygments_lexer": "ipython3",
   "version": "3.7.13"
  },
  "vscode": {
   "interpreter": {
    "hash": "336dbf19670fe69df6c849624cd56b17c6cf8c8a65fd2e6b6b56f40fb3bf8b21"
   }
  }
 },
 "nbformat": 4,
 "nbformat_minor": 2
}
